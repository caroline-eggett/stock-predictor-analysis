{
 "cells": [
  {
   "cell_type": "code",
   "execution_count": 4,
   "metadata": {},
   "outputs": [],
   "source": [
    "import pandas as pd\n",
    "import numpy as np\n",
    "import seaborn as sns\n",
    "import matplotlib.pyplot as plt\n",
    "from sklearn.feature_extraction.text import TfidfVectorizer\n",
    "from sklearn.cluster import KMeans\n",
    "import nltk\n",
    "from nltk.tokenize import sent_tokenize, word_tokenize\n",
    "from nltk.corpus import stopwords\n",
    "from nltk.tokenize import word_tokenize\n",
    "%matplotlib inline"
   ]
  },
  {
   "cell_type": "markdown",
   "metadata": {},
   "source": [
    "## Data Cleanup"
   ]
  },
  {
   "cell_type": "markdown",
   "metadata": {},
   "source": [
    "### Cleaning Data for Sentiment Analysis"
   ]
  },
  {
   "cell_type": "code",
   "execution_count": 6,
   "metadata": {},
   "outputs": [
    {
     "data": {
      "text/html": [
       "<div>\n",
       "<style scoped>\n",
       "    .dataframe tbody tr th:only-of-type {\n",
       "        vertical-align: middle;\n",
       "    }\n",
       "\n",
       "    .dataframe tbody tr th {\n",
       "        vertical-align: top;\n",
       "    }\n",
       "\n",
       "    .dataframe thead th {\n",
       "        text-align: right;\n",
       "    }\n",
       "</style>\n",
       "<table border=\"1\" class=\"dataframe\">\n",
       "  <thead>\n",
       "    <tr style=\"text-align: right;\">\n",
       "      <th></th>\n",
       "      <th>Accounts</th>\n",
       "      <th>Count of Tweets</th>\n",
       "      <th>Ticker Symbol</th>\n",
       "    </tr>\n",
       "  </thead>\n",
       "  <tbody>\n",
       "    <tr>\n",
       "      <th>0</th>\n",
       "      <td>AmazonHelp</td>\n",
       "      <td>169840</td>\n",
       "      <td>AMZN</td>\n",
       "    </tr>\n",
       "    <tr>\n",
       "      <th>1</th>\n",
       "      <td>AppleSupport</td>\n",
       "      <td>106860</td>\n",
       "      <td>AAPL</td>\n",
       "    </tr>\n",
       "    <tr>\n",
       "      <th>2</th>\n",
       "      <td>Delta</td>\n",
       "      <td>42253</td>\n",
       "      <td>DAL</td>\n",
       "    </tr>\n",
       "    <tr>\n",
       "      <th>3</th>\n",
       "      <td>AmericanAir</td>\n",
       "      <td>36764</td>\n",
       "      <td>AAL</td>\n",
       "    </tr>\n",
       "    <tr>\n",
       "      <th>4</th>\n",
       "      <td>SouthwestAir</td>\n",
       "      <td>28977</td>\n",
       "      <td>LUV</td>\n",
       "    </tr>\n",
       "  </tbody>\n",
       "</table>\n",
       "</div>"
      ],
      "text/plain": [
       "       Accounts  Count of Tweets Ticker Symbol\n",
       "0    AmazonHelp           169840          AMZN\n",
       "1  AppleSupport           106860          AAPL\n",
       "2         Delta            42253           DAL\n",
       "3   AmericanAir            36764           AAL\n",
       "4  SouthwestAir            28977           LUV"
      ]
     },
     "execution_count": 6,
     "metadata": {},
     "output_type": "execute_result"
    }
   ],
   "source": [
    "# Reading in the CSV lookup table file\n",
    "twitter_ticker_accounts = pd.read_csv('data/twitter_accounts_with_ticker_data.csv')\n",
    "twitter_ticker_accounts.head()"
   ]
  },
  {
   "cell_type": "code",
   "execution_count": 7,
   "metadata": {},
   "outputs": [],
   "source": [
    "# Reading in the tweet data\n",
    "tweets = pd.read_csv('data/twcs.csv')"
   ]
  },
  {
   "cell_type": "code",
   "execution_count": 8,
   "metadata": {},
   "outputs": [
    {
     "data": {
      "text/html": [
       "<div>\n",
       "<style scoped>\n",
       "    .dataframe tbody tr th:only-of-type {\n",
       "        vertical-align: middle;\n",
       "    }\n",
       "\n",
       "    .dataframe tbody tr th {\n",
       "        vertical-align: top;\n",
       "    }\n",
       "\n",
       "    .dataframe thead th {\n",
       "        text-align: right;\n",
       "    }\n",
       "</style>\n",
       "<table border=\"1\" class=\"dataframe\">\n",
       "  <thead>\n",
       "    <tr style=\"text-align: right;\">\n",
       "      <th></th>\n",
       "      <th>tweet_id</th>\n",
       "      <th>author_id</th>\n",
       "      <th>inbound</th>\n",
       "      <th>created_at</th>\n",
       "      <th>text</th>\n",
       "      <th>response_tweet_id</th>\n",
       "      <th>in_response_to_tweet_id</th>\n",
       "      <th>Match?</th>\n",
       "    </tr>\n",
       "  </thead>\n",
       "  <tbody>\n",
       "    <tr>\n",
       "      <th>15</th>\n",
       "      <td>21</td>\n",
       "      <td>Ask_Spectrum</td>\n",
       "      <td>False</td>\n",
       "      <td>Tue Oct 31 22:14:37 +0000 2017</td>\n",
       "      <td>@115716 What information is incorrect? ^JK</td>\n",
       "      <td>22,23</td>\n",
       "      <td>24.0</td>\n",
       "      <td>True</td>\n",
       "    </tr>\n",
       "    <tr>\n",
       "      <th>17</th>\n",
       "      <td>25</td>\n",
       "      <td>Ask_Spectrum</td>\n",
       "      <td>False</td>\n",
       "      <td>Tue Oct 31 22:18:28 +0000 2017</td>\n",
       "      <td>@115716 Our department is part of the corporat...</td>\n",
       "      <td>26</td>\n",
       "      <td>22.0</td>\n",
       "      <td>True</td>\n",
       "    </tr>\n",
       "    <tr>\n",
       "      <th>19</th>\n",
       "      <td>27</td>\n",
       "      <td>Ask_Spectrum</td>\n",
       "      <td>False</td>\n",
       "      <td>Tue Oct 31 22:21:26 +0000 2017</td>\n",
       "      <td>@115716 No thank you. ^JK</td>\n",
       "      <td>NaN</td>\n",
       "      <td>26.0</td>\n",
       "      <td>True</td>\n",
       "    </tr>\n",
       "    <tr>\n",
       "      <th>22</th>\n",
       "      <td>28</td>\n",
       "      <td>Ask_Spectrum</td>\n",
       "      <td>False</td>\n",
       "      <td>Tue Oct 31 22:05:37 +0000 2017</td>\n",
       "      <td>@115716 The information pertaining to the acco...</td>\n",
       "      <td>24</td>\n",
       "      <td>29.0</td>\n",
       "      <td>True</td>\n",
       "    </tr>\n",
       "    <tr>\n",
       "      <th>24</th>\n",
       "      <td>30</td>\n",
       "      <td>Ask_Spectrum</td>\n",
       "      <td>False</td>\n",
       "      <td>Tue Oct 31 22:12:09 +0000 2017</td>\n",
       "      <td>@115717 Hello, My apologies for any frustratio...</td>\n",
       "      <td>NaN</td>\n",
       "      <td>31.0</td>\n",
       "      <td>True</td>\n",
       "    </tr>\n",
       "  </tbody>\n",
       "</table>\n",
       "</div>"
      ],
      "text/plain": [
       "    tweet_id     author_id  inbound                      created_at  \\\n",
       "15        21  Ask_Spectrum    False  Tue Oct 31 22:14:37 +0000 2017   \n",
       "17        25  Ask_Spectrum    False  Tue Oct 31 22:18:28 +0000 2017   \n",
       "19        27  Ask_Spectrum    False  Tue Oct 31 22:21:26 +0000 2017   \n",
       "22        28  Ask_Spectrum    False  Tue Oct 31 22:05:37 +0000 2017   \n",
       "24        30  Ask_Spectrum    False  Tue Oct 31 22:12:09 +0000 2017   \n",
       "\n",
       "                                                 text response_tweet_id  \\\n",
       "15         @115716 What information is incorrect? ^JK             22,23   \n",
       "17  @115716 Our department is part of the corporat...                26   \n",
       "19                          @115716 No thank you. ^JK               NaN   \n",
       "22  @115716 The information pertaining to the acco...                24   \n",
       "24  @115717 Hello, My apologies for any frustratio...               NaN   \n",
       "\n",
       "    in_response_to_tweet_id  Match?  \n",
       "15                     24.0    True  \n",
       "17                     22.0    True  \n",
       "19                     26.0    True  \n",
       "22                     29.0    True  \n",
       "24                     31.0    True  "
      ]
     },
     "execution_count": 8,
     "metadata": {},
     "output_type": "execute_result"
    }
   ],
   "source": [
    "# Getting only the tweet data that we have stock data for\n",
    "twitter_accounts = twitter_ticker_accounts['Accounts']\n",
    "tweets_v2 = tweets.author_id.isin(twitter_accounts)\n",
    "tweets['Match?'] = tweets_v2\n",
    "tweets = tweets[tweets['Match?'] == True]\n",
    "tweets.head()"
   ]
  },
  {
   "cell_type": "code",
   "execution_count": null,
   "metadata": {},
   "outputs": [],
   "source": [
    "# Creating the final tweet CSV file\n",
    "# Move to your data folder\n",
    "tweets.to_csv('final_tweet_file.csv')"
   ]
  },
  {
   "cell_type": "markdown",
   "metadata": {},
   "source": [
    "### Cleaning the Data for KMeans Modeling"
   ]
  },
  {
   "cell_type": "code",
   "execution_count": 11,
   "metadata": {},
   "outputs": [],
   "source": [
    "df_twitter = pd.read_csv('data/final_tweet_file.csv')"
   ]
  },
  {
   "cell_type": "code",
   "execution_count": null,
   "metadata": {},
   "outputs": [
    {
     "name": "stderr",
     "output_type": "stream",
     "text": [
      "[nltk_data] Downloading package stopwords to\n",
      "[nltk_data]     C:\\Users\\carol\\AppData\\Roaming\\nltk_data...\n",
      "[nltk_data]   Package stopwords is already up-to-date!\n",
      "[nltk_data] Downloading package punkt to\n",
      "[nltk_data]     C:\\Users\\carol\\AppData\\Roaming\\nltk_data...\n",
      "[nltk_data]   Package punkt is already up-to-date!\n"
     ]
    }
   ],
   "source": [
    "# Making all tweets lowercase\n",
    "df_twitter['text'] = df_twitter[\"text\"].str.lower()\n",
    "\n",
    "# initializing stop words\n",
    "nltk.download('stopwords')\n",
    "stop_words = set(stopwords.words(\"english\"))\n",
    "nltk.download('punkt')\n",
    "\n",
    "# initializing punctuations string\n",
    "punc = '''!()-[]{};:'\"\\,<>./?@#$%^&*_~‘'''\n"
   ]
  },
  {
   "cell_type": "code",
   "execution_count": null,
   "metadata": {},
   "outputs": [
    {
     "name": "stderr",
     "output_type": "stream",
     "text": [
      "C:\\Users\\carol\\AppData\\Local\\Temp/ipykernel_6836/380441510.py:14: PerformanceWarning: DataFrame is highly fragmented.  This is usually the result of calling `frame.insert` many times, which has poor performance.  Consider joining all columns at once using pd.concat(axis=1) instead.  To get a de-fragmented frame, use `newframe = frame.copy()`\n",
      "  df_tweets[df_twitter['tweet_id'][x]] = pd.Series(tweet_filtered)\n"
     ]
    }
   ],
   "source": [
    "# Creating function to create dataframe for each tweet, eliminating stop words and punctuation\n",
    "# Please note the column name is the tweet_id name\n",
    "\n",
    "df_tweets = pd.DataFrame()\n",
    "\n",
    "def twitter_tweets(number_of_rows):\n",
    "    for x in range(number_of_rows):\n",
    "        tweet_filtered = []\n",
    "        words_in_tweet = word_tokenize(df_twitter['text'][x])\n",
    "        for w in words_in_tweet:\n",
    "            if w not in stop_words:\n",
    "                if w not in punc:\n",
    "                    tweet_filtered.append(w)\n",
    "        df_tweets[df_twitter['tweet_id'][x]] = pd.Series(tweet_filtered)\n",
    "\n",
    "twitter_tweets(20000)\n"
   ]
  },
  {
   "cell_type": "code",
   "execution_count": null,
   "metadata": {},
   "outputs": [
    {
     "name": "stdout",
     "output_type": "stream",
     "text": [
      "(12, 20000)\n"
     ]
    }
   ],
   "source": [
    "# CSV file for tweets from function\n",
    "print(df_tweets.shape)\n",
    "df_tweets.to_csv('data/tweets.csv')"
   ]
  },
  {
   "cell_type": "code",
   "execution_count": null,
   "metadata": {},
   "outputs": [],
   "source": [
    "# Transpose the Twitter Dataframe for analysis\n",
    "df_tweets_transpose = df_tweets.T\n",
    "first_column = df_twitter['tweet_id'][:20000]\n",
    "# insert column using insert(position,column_name,first_column) function\n",
    "df_tweets_transpose.insert(0, 'Tweet_ID', first_column)\n",
    "df_tweets_transpose.head(n=30)\n",
    "df_tweets_transpose.to_csv('tweets_transpose.csv')"
   ]
  },
  {
   "cell_type": "code",
   "execution_count": null,
   "metadata": {},
   "outputs": [
    {
     "name": "stdout",
     "output_type": "stream",
     "text": [
      "             2           3        4           5        6           8  \\\n",
      "0   sprintcare  sprintcare   115712  sprintcare   115712  sprintcare   \n",
      "1      propose        sent   please         NaN   please       worst   \n",
      "2          NaN     several     send         NaN     send    customer   \n",
      "3          NaN     private       us         NaN       us     service   \n",
      "4          NaN    messages  private         NaN  private         NaN   \n",
      "5          NaN         one  message         NaN  message         NaN   \n",
      "6          NaN  responding   assist         NaN     gain         NaN   \n",
      "7          NaN       usual    click         NaN  details         NaN   \n",
      "8          NaN         NaN  message         NaN  account         NaN   \n",
      "9          NaN         NaN        ’         NaN      NaN         NaN   \n",
      "10         NaN         NaN      top         NaN      NaN         NaN   \n",
      "11         NaN         NaN  profile         NaN      NaN         NaN   \n",
      "\n",
      "           11            12          15          16  ...      2718  \\\n",
      "0      115713    sprintcare      115713  sprintcare  ...    116356   \n",
      "1   saddening           gon  understand       since  ...  received   \n",
      "2        hear            na    concerns      signed  ...        dm   \n",
      "3      please     magically          'd        ....  ...    follow   \n",
      "4       shoot        change        like       since  ...       NaN   \n",
      "5          us  connectivity      please         day  ...       NaN   \n",
      "6          dm         whole        send           1  ...       NaN   \n",
      "7        look        family          us         NaN  ...       NaN   \n",
      "8         -kc             🤥      direct         NaN  ...       NaN   \n",
      "9         NaN             💯     message         NaN  ...       NaN   \n",
      "10        NaN           NaN      assist         NaN  ...       NaN   \n",
      "11        NaN           NaN         -aa         NaN  ...       NaN   \n",
      "\n",
      "            2719      2721          2720     2722        2724  \\\n",
      "0   uber_support    116356  uber_support   116356          hi   \n",
      "1         115877       've           NaN      're      115877   \n",
      "2              ’  folllwed           NaN     help  inadequate   \n",
      "3              “       via           NaN     send    response   \n",
      "4        reached        dm           NaN       us     telling   \n",
      "5              ”       NaN           NaN       dm       throw   \n",
      "6         please       NaN           NaN    email        away   \n",
      "7         refund       NaN           NaN  address      entire   \n",
      "8           cost       NaN           NaN  connect         £18   \n",
      "9       inedible       NaN           NaN      NaN       order   \n",
      "10          food       NaN           NaN      NaN         eat   \n",
      "11       without       NaN           NaN      NaN       would   \n",
      "\n",
      "                 2725          2726       2727        2728  \n",
      "0              116357  uber_support     116358         hey  \n",
      "1                help       ordered       take         guy  \n",
      "2                send          food  seriously      picked  \n",
      "3                  us          uber     please      cousin  \n",
      "4                note          eats       send  pittsburgh  \n",
      "5               https           get         us      friday  \n",
      "6   //t.co/nftc4odh3p      delivery         dm      115873  \n",
      "7                team        please      email       tried  \n",
      "8             connect       contact    address    sexually  \n",
      "9                 NaN           NaN    connect  assaulting  \n",
      "10                NaN           NaN       asap        name  \n",
      "11                NaN           NaN        NaN    feruzbek  \n",
      "\n",
      "[12 rows x 1998 columns]\n",
      "  (6, 20)\t1.0\n",
      "  (7, 55)\t1.0\n",
      "  (8, 321)\t1.0\n",
      "  (9, 418)\t1.0\n",
      "  (10, 524)\t1.0\n",
      "  (11, 634)\t1.0\n",
      "  (12, 732)\t1.0\n",
      "  (13, 815)\t1.0\n",
      "  (14, 865)\t1.0\n",
      "  (15, 964)\t1.0\n",
      "  (16, 1280)\t1.0\n",
      "  (17, 1383)\t1.0\n",
      "  (18, 1486)\t1.0\n",
      "  (19, 1067)\t1.0\n",
      "  (20, 1173)\t1.0\n",
      "  (21, 1524)\t1.0\n",
      "  (22, 1534)\t1.0\n",
      "  (23, 1545)\t1.0\n",
      "  (24, 1555)\t1.0\n",
      "  (25, 1566)\t1.0\n",
      "  (26, 1577)\t1.0\n",
      "  (27, 1588)\t1.0\n",
      "  (28, 1596)\t1.0\n",
      "  (29, 1606)\t1.0\n",
      "  (30, 1597)\t1.0\n",
      "  :\t:\n",
      "  (1973, 1493)\t1.0\n",
      "  (1974, 1494)\t1.0\n",
      "  (1975, 1495)\t1.0\n",
      "  (1976, 1496)\t1.0\n",
      "  (1977, 1497)\t1.0\n",
      "  (1978, 1499)\t1.0\n",
      "  (1979, 1500)\t1.0\n",
      "  (1980, 1488)\t1.0\n",
      "  (1981, 1501)\t1.0\n",
      "  (1982, 1480)\t1.0\n",
      "  (1983, 1474)\t1.0\n",
      "  (1984, 1502)\t1.0\n",
      "  (1985, 1503)\t1.0\n",
      "  (1986, 1504)\t1.0\n",
      "  (1987, 1505)\t1.0\n",
      "  (1988, 1506)\t1.0\n",
      "  (1989, 1507)\t1.0\n",
      "  (1990, 1510)\t1.0\n",
      "  (1991, 1509)\t1.0\n",
      "  (1992, 1511)\t1.0\n",
      "  (1993, 1512)\t1.0\n",
      "  (1994, 1513)\t1.0\n",
      "  (1995, 1514)\t1.0\n",
      "  (1996, 1515)\t1.0\n",
      "  (1997, 1516)\t1.0\n"
     ]
    },
    {
     "data": {
      "text/plain": [
       "dtype('float64')"
      ]
     },
     "execution_count": 22,
     "metadata": {},
     "output_type": "execute_result"
    }
   ],
   "source": [
    "df_tweets = pd.read_csv('tweets.csv', usecols=range(2,2000))\n",
    "print(df_tweets)\n",
    "vectorizer = TfidfVectorizer(stop_words={'english'})\n",
    "X = vectorizer.fit_transform(df_tweets)\n",
    "print(X)\n",
    "X.dtype"
   ]
  },
  {
   "cell_type": "code",
   "execution_count": null,
   "metadata": {},
   "outputs": [
    {
     "data": {
      "image/png": "[encoded data removed]",
      "text/plain": [
       "<Figure size 432x288 with 1 Axes>"
      ]
     },
     "metadata": {
      "needs_background": "light"
     },
     "output_type": "display_data"
    }
   ],
   "source": [
    "Sum_of_squared_distances = []\n",
    "K = range(2,20)\n",
    "for k in K:\n",
    "   km = KMeans(n_clusters=k, max_iter=200, n_init=10)\n",
    "   km = km.fit(X)\n",
    "   Sum_of_squared_distances.append(km.inertia_)\n",
    "plt.plot(K, Sum_of_squared_distances, 'bx-')\n",
    "plt.xlabel('k')\n",
    "plt.ylabel('Sum_of_squared_distances')\n",
    "plt.title('Elbow Method For Optimal k')\n",
    "plt.show()"
   ]
  }
 ],
 "metadata": {
  "interpreter": {
   "hash": "b63c0f6618d7d0056e948ec4a7ecb721abc665b27ed524c57a909a57a756e9f9"
  },
  "kernelspec": {
   "display_name": "Python 3.10.0 64-bit",
   "language": "python",
   "name": "python3"
  },
  "language_info": {
   "codemirror_mode": {
    "name": "ipython",
    "version": 3
   },
   "file_extension": ".py",
   "mimetype": "text/x-python",
   "name": "python",
   "nbconvert_exporter": "python",
   "pygments_lexer": "ipython3",
   "version": "3.10.0"
  },
  "orig_nbformat": 4
 },
 "nbformat": 4,
 "nbformat_minor": 2
}
