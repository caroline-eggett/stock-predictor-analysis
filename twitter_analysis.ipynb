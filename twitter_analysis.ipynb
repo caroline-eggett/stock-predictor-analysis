{
 "cells": [
  {
   "cell_type": "code",
   "execution_count": 1,
   "metadata": {},
   "outputs": [],
   "source": [
    "import pandas as pd\n",
    "import seaborn as sns\n",
    "import matplotlib.pyplot as plt\n",
    "%matplotlib inline"
   ]
  },
  {
   "cell_type": "code",
   "execution_count": 2,
   "metadata": {},
   "outputs": [
    {
     "name": "stdout",
     "output_type": "stream",
     "text": [
      "Twitter Data: (2811774, 7)\n"
     ]
    }
   ],
   "source": [
    "df_twitter = pd.read_csv('data/twcs.csv')\n",
    "print('Twitter Data: ' + str(df_twitter.shape))"
   ]
  },
  {
   "cell_type": "code",
   "execution_count": 3,
   "metadata": {},
   "outputs": [],
   "source": [
    "df_twitter.head()\n",
    "df_twitter.columns\n",
    "unique_comp = pd.DataFrame(df_twitter['author_id'].unique())"
   ]
  },
  {
   "cell_type": "code",
   "execution_count": 4,
   "metadata": {},
   "outputs": [],
   "source": [
    "# sns.countplot(x='author_id', data=df_twitter)"
   ]
  }
 ],
 "metadata": {
  "interpreter": {
   "hash": "b63c0f6618d7d0056e948ec4a7ecb721abc665b27ed524c57a909a57a756e9f9"
  },
  "kernelspec": {
   "display_name": "Python 3.10.0 64-bit",
   "language": "python",
   "name": "python3"
  },
  "language_info": {
   "codemirror_mode": {
    "name": "ipython",
    "version": 3
   },
   "file_extension": ".py",
   "mimetype": "text/x-python",
   "name": "python",
   "nbconvert_exporter": "python",
   "pygments_lexer": "ipython3",
   "version": "3.10.0"
  },
  "orig_nbformat": 4
 },
 "nbformat": 4,
 "nbformat_minor": 2
}
